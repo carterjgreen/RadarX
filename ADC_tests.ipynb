{
 "cells": [
  {
   "cell_type": "code",
   "execution_count": 2,
   "metadata": {},
   "outputs": [],
   "source": [
    "import numpy as np\n",
    "import numpy.fft as fft\n",
    "import matplotlib.pyplot as plt\n",
    "import seaborn as sns\n",
    "#from scipy.constants import c, pi\n",
    "sns.set_style('whitegrid')\n",
    "import radarProc"
   ]
  },
  {
   "cell_type": "code",
   "execution_count": 118,
   "metadata": {},
   "outputs": [],
   "source": [
    "class Proc:\n",
    "    \n",
    "    def __init__(self, Pfa=1e-8, Rmax=50e3):\n",
    "        self.Rmax = Rmax\n",
    "        self.Pfa = Pfa\n",
    "        self.ADC = radarProc.ADC(Rmax=self.Rmax)\n",
    "        self.flags = np.zeros(4)\n",
    "        self.delF = 350\n",
    "        #self.fig, self.ax = self.init_graph()\n",
    "       \n",
    "    \n",
    "    def init_graph(self):\n",
    "        fig, axes = plt.subplots(3, 2, figsize=(10, 8), subplot_kw=dict(projection='polar'))\n",
    "        for ax1, ax2 in axes:\n",
    "            ax1.set_thetamin(45)\n",
    "            ax1.set_thetamax(135)\n",
    "            \n",
    "            ax2.set_thetamin(45)\n",
    "            ax2.set_thetamax(135)\n",
    "            \n",
    "        fig.tight_layout()\n",
    "        \n",
    "        return fig, axes\n",
    "    \n",
    "    \n",
    "    def lcm(self, array):\n",
    "        return np.lcm.reduce(array)\n",
    "    \n",
    "        \n",
    "    def coincidence(self, bins, n_max):\n",
    "        flags = np.zeros(4)\n",
    "        n_PRF = len(bins)\n",
    "        L = [row.shape[1] for row in bins]\n",
    "        Lu_max = self.lcm(L)\n",
    "        n_det = [np.count_nonzero(row) for row in bins]\n",
    "        # Target missed\n",
    "        flags[0] = not(all(n_det))\n",
    "\n",
    "        targets = bins\n",
    "        for i in range(n_PRF):\n",
    "            # Repeat array\n",
    "            n_rep = int(np.floor(n_max/L[i])) + 1\n",
    "            targets[i] = np.tile(bins[i], (1, n_rep))\n",
    "        \n",
    "        big = max([row.shape[1] for row in targets])\n",
    "        for i in range(n_PRF):\n",
    "            # match array length to concatenate\n",
    "            e = big-targets[i].shape[1]\n",
    "            bins[i] = np.pad(targets[i], [(0,0), (0,e)], mode='constant')\n",
    "        \n",
    "        match = np.concatenate(targets)\n",
    "        index = np.where(match.sum(axis=0) == n_PRF)[0]\n",
    "    \n",
    "        # Long range ambiguity\n",
    "        flags[1] = np.logical_and(Lu_max < index, index < n_max).any()\n",
    "        # Too many targets\n",
    "        flags[2] = len(index) > max(n_det)\n",
    "        \n",
    "        self.flags = flags\n",
    "      \n",
    "        return index, flags   \n",
    "    \n",
    "    \n",
    "    def dwell(self, n_P):\n",
    "        # Take n_P dwells at current PRF\n",
    "        dwell = np.zeros((n_P, self.ADC.L), dtype='complex128')\n",
    "        for i in range(n_P):\n",
    "            measurement = self.ADC.read()\n",
    "            dwell[i,:] = measurement[0] + 1j*measurement[1]\n",
    "        \n",
    "        return dwell\n",
    "    \n",
    "            \n",
    "    def process_dwell(self, dwell):\n",
    "        dwell = fft.fft(dwell, axis=0)        \n",
    "        if self.ADC.EL == 1:\n",
    "            dwell[0, :] = 0\n",
    "            \n",
    "        return fft.fftshift(dwell, axes=0)\n",
    "    \n",
    "    \n",
    "    def threshold(self, dwell):\n",
    "        n_P = dwell.shape[0]\n",
    "        V_t = np.sqrt(-2*self.ADC.noise_var*n_P*np.log(self.Pfa))\n",
    "        \n",
    "        return (np.abs(dwell) > V_t).astype(int)\n",
    "    \n",
    "    \n",
    "    def m_of_n(self, m, n, n_P):\n",
    "        out = np.zeros((n_P, self.ADC.L, n), dtype='complex128')\n",
    "        for i in range(n):\n",
    "            dwell = self.dwell(n_P)\n",
    "            processed = self.process_dwell(dwell)\n",
    "            out[:,:, i] = self.threshold(processed)\n",
    "            \n",
    "        return (out.sum(axis=2) > m).astype(int)\n",
    "    \n",
    "    \n",
    "    def to_bins(self, data, mode='range'):\n",
    "        if mode == 'range':\n",
    "            return data.any(axis=0, keepdims=True)\n",
    "        else:\n",
    "            return data.any(axis=1, keepdims=True).T\n",
    "        \n",
    "        \n",
    "    def PRF_sweep(self, PRFs, mode='single', M=2, N=3):\n",
    "        range_bins = []\n",
    "        velocity_bins = []\n",
    "        for PRF in PRFs:\n",
    "            self.ADC.set_PRF(PRF)\n",
    "            n_P = int(PRF/self.delF)\n",
    "            if mode == 'single':\n",
    "                dwell = self.dwell(n_P)\n",
    "                dwell = self.process_dwell(dwell)\n",
    "                thresh = self.threshold(dwell)\n",
    "                range_bins.append(self.to_bins(thresh))\n",
    "            else:\n",
    "                #m_of_n\n",
    "                thresh = self.m_of_n(M, N, n_P)\n",
    "                range_bins.append(self.to_bins(thresh))\n",
    "        \n",
    "        return range_bins\n",
    "                \n",
    "            \n",
    "    \n",
    "    "
   ]
  },
  {
   "cell_type": "code",
   "execution_count": 159,
   "metadata": {},
   "outputs": [
    {
     "name": "stdout",
     "output_type": "stream",
     "text": [
      "[ 5000. 25000. 45000. 45000.]\n"
     ]
    }
   ],
   "source": [
    "proc = Proc()\n",
    "proc.ADC.EL = 2\n",
    "#myADC = proc.ADC()\n",
    "\n",
    "targ1 = radarProc.Target(5e3, 0, 30, EL=2, CPI=np.inf, SNR=0)\n",
    "targ2 = radarProc.Target(25e3, 0, 10, EL=2, CPI=np.inf)\n",
    "targ3 = radarProc.Target(45e3, 0, -274, EL=2, CPI=np.inf)\n",
    "targ3 = radarProc.Target(45e3, 0, 150, EL=2, CPI=np.inf)\n",
    "proc.ADC.add_target(targ1)\n",
    "proc.ADC.add_target(targ2)\n",
    "proc.ADC.add_target(targ3)\n",
    "proc.ADC.add_target(targ3)\n",
    "\n",
    "print(proc.ADC.visible_targets())"
   ]
  },
  {
   "cell_type": "code",
   "execution_count": 160,
   "metadata": {},
   "outputs": [],
   "source": [
    "bins = proc.PRF_sweep([17e3, 15e3], mode='m_of_n')"
   ]
  },
  {
   "cell_type": "code",
   "execution_count": 161,
   "metadata": {},
   "outputs": [
    {
     "name": "stdout",
     "output_type": "stream",
     "text": [
      "[ 4950 24900 45000] [0. 0. 0. 0.]\n"
     ]
    }
   ],
   "source": [
    "dist, flags = proc.coincidence(bins, 333)\n",
    "print(dist*150, flags)"
   ]
  },
  {
   "cell_type": "code",
   "execution_count": null,
   "metadata": {},
   "outputs": [],
   "source": []
  }
 ],
 "metadata": {
  "kernelspec": {
   "display_name": "Python 3",
   "language": "python",
   "name": "python3"
  },
  "language_info": {
   "codemirror_mode": {
    "name": "ipython",
    "version": 3
   },
   "file_extension": ".py",
   "mimetype": "text/x-python",
   "name": "python",
   "nbconvert_exporter": "python",
   "pygments_lexer": "ipython3",
   "version": "3.8.3"
  }
 },
 "nbformat": 4,
 "nbformat_minor": 4
}
