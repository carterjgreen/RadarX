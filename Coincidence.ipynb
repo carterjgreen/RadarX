{
 "cells": [
  {
   "cell_type": "code",
   "execution_count": 1,
   "metadata": {},
   "outputs": [],
   "source": [
    "import numpy as np\n",
    "from numpy.matlib import repmat"
   ]
  },
  {
   "cell_type": "code",
   "execution_count": 2,
   "metadata": {},
   "outputs": [],
   "source": [
    "def scheduler1():\n",
    "    B1 = np.array([0, 0, 0, 0, 0, 1, 0, 0, 0, 0, 0, 0])\n",
    "    B2 = np.array([0, 1, 0, 0, 0, 0, 0, 0, 0, 0, 0, 0, 0, 0])\n",
    "    \n",
    "    B = [B1, B2]\n",
    "    \n",
    "    return 42, B"
   ]
  },
  {
   "cell_type": "code",
   "execution_count": 3,
   "metadata": {},
   "outputs": [],
   "source": [
    "def scheduler2():\n",
    "    B1 = np.array([0, 1, 0, 0, 0, 0]) \n",
    "    B2 = np.array([0, 1, 0, 0, 0, 0, 0, 0])\n",
    "    \n",
    "    B = [B1, B2]\n",
    "    \n",
    "    return 32, B"
   ]
  },
  {
   "cell_type": "code",
   "execution_count": 4,
   "metadata": {},
   "outputs": [],
   "source": [
    "def scheduler3():\n",
    "    B1 = np.array([0, 1, 0, 0, 0, 0])   \n",
    "    B2 = np.array([0, 1, 0, 0, 0, 0, 0, 0])\n",
    "    B3 = np.array([0, 0, 0, 0, 0, 1, 0, 0, 0, 0])\n",
    "    \n",
    "    B = [B1, B2, B3]\n",
    "    \n",
    "    return 32, B"
   ]
  },
  {
   "cell_type": "code",
   "execution_count": 5,
   "metadata": {},
   "outputs": [],
   "source": [
    "def scheduler4():\n",
    "    B1 = np.array([0, 0, 0, 1, 0, 1, 0])\n",
    "    B2 = np.array([0, 1, 0, 1, 0, 0, 0, 0, 0])\n",
    "    \n",
    "    B = [B1, B2]\n",
    "    \n",
    "    return 28, B"
   ]
  },
  {
   "cell_type": "code",
   "execution_count": 6,
   "metadata": {},
   "outputs": [],
   "source": [
    "def scheduler5():\n",
    "    B1 = np.array([0, 0, 0, 1, 0, 1, 0])\n",
    "    B2 = np.array([0, 1, 0, 1, 0, 0, 0, 0, 0])\n",
    "    B3 = np.array([0, 1, 0, 0, 0, 0, 0, 0, 0, 0, 1])\n",
    "    \n",
    "    B = [B1, B2, B3]\n",
    "    \n",
    "    return 33, B"
   ]
  },
  {
   "cell_type": "code",
   "execution_count": 7,
   "metadata": {},
   "outputs": [],
   "source": [
    "def scheduler6():\n",
    "    B0 = np.array([0, 0, 1, 0, 0, 0, 0, 0, 0, 0, 1])\n",
    "    B1 = np.array([0, 1, 0, 0, 0, 0, 0, 0, 0, 1, 0, 0, 0])\n",
    "    B2 = np.array([0, 0, 1, 0, 0, 0, 0, 0, 0, 0, 0, 1, 0, 0, 0, 0, 0])\n",
    "    \n",
    "    B = [B0, B1, B2]\n",
    "    \n",
    "    return 150, B"
   ]
  },
  {
   "cell_type": "code",
   "execution_count": 8,
   "metadata": {},
   "outputs": [],
   "source": [
    "def scheduler7():\n",
    "    B0 = np.array([0, 0, 0, 0, 0])\n",
    "    B1 = np.array([0, 0, 0, 0, 0, 1, 0])\n",
    "    B2 = np.array([0, 0, 1, 0, 0, 0, 0, 0, 0])\n",
    "    \n",
    "    B = [B0, B1, B2]\n",
    "    \n",
    "    return 150, B"
   ]
  },
  {
   "cell_type": "code",
   "execution_count": 9,
   "metadata": {},
   "outputs": [],
   "source": [
    "def scheduler8():\n",
    "    B0 = np.array([0, 1, 1, 0, 0, 1, 0, 0, 0, 1, 0])\n",
    "    B1 = np.array([0, 1, 0, 0, 1, 1, 0, 0, 1, 0, 0, 0, 0])\n",
    "    B2 = np.array([0, 0, 0, 0, 1, 0, 1, 0, 0, 1, 1, 0, 0, 0, 0, 0, 0])\n",
    "    \n",
    "    B = [B0, B1, B2]\n",
    "    \n",
    "    return 150, B"
   ]
  },
  {
   "cell_type": "code",
   "execution_count": 10,
   "metadata": {},
   "outputs": [],
   "source": [
    "def scheduler9():\n",
    "    B0 = np.array([0, 1, 1, 0, 0, 1, 0, 0, 0, 1, 0])\n",
    "    B1 = np.array([0, 1, 0, 0, 1, 1, 0, 0, 1, 0, 0, 0, 0])\n",
    "    B2 = np.array([0, 0, 0, 0, 1, 0, 1, 0, 0, 1, 1, 0, 0, 0, 0, 0, 0])\n",
    "    B3 = np.array([0, 0, 0, 1, 0, 0, 0, 0, 1, 0, 0, 0, 0, 1, 0, 0, 0, 1, 0])\n",
    "    \n",
    "    B = [B0, B1, B2, B3]\n",
    "    \n",
    "    return 150, B"
   ]
  },
  {
   "cell_type": "code",
   "execution_count": 11,
   "metadata": {},
   "outputs": [],
   "source": [
    "def scheduler10():\n",
    "    B0 = np.array([0, 1, 1, 0, 1, 0])\n",
    "    B1 = np.array([0, 0, 0, 0, 1, 1, 1, 0])\n",
    "    B2 = np.array([0, 1, 0, 0, 0, 0, 0, 0, 1, 0, 1, 0])\n",
    "    \n",
    "    return 50, [B0, B1, B2]\n",
    "    "
   ]
  },
  {
   "cell_type": "code",
   "execution_count": 12,
   "metadata": {},
   "outputs": [],
   "source": [
    "def scheduler11():\n",
    "    B0 = np.array([0, 1, 1, 0, 1, 0])\n",
    "    B1 = np.array([0, 0, 0, 0, 1, 1, 1, 0])\n",
    "    B2 = np.array([0, 1, 0, 0, 0, 0, 0, 0, 1, 0, 1, 0])\n",
    "    B3 = np.array([0, 1, 0, 0, 0, 1, 0, 0, 0, 0, 0, 0, 0, 1, 0])\n",
    "    \n",
    "    return 50, [B0, B1, B2, B3]"
   ]
  },
  {
   "cell_type": "code",
   "execution_count": 13,
   "metadata": {},
   "outputs": [],
   "source": [
    "def lcm(array):\n",
    "    return np.lcm.reduce(array)"
   ]
  },
  {
   "cell_type": "code",
   "execution_count": 26,
   "metadata": {},
   "outputs": [],
   "source": [
    "def coincidence(bins, n_max):\n",
    "    flags = np.zeros(4)\n",
    "    n_PRF = len(bins)\n",
    "    L = [row.shape[0] for row in bins]\n",
    "    Lu_max = lcm(L)\n",
    "    print(L, Lu_max)\n",
    "    n_det = [np.count_nonzero(row) for row in bins]\n",
    "    # Target missed\n",
    "    flags[0] = not(all(n_det))\n",
    "\n",
    "    for i in range(n_PRF):\n",
    "        # Repeat array\n",
    "        n_rep = int(np.floor(n_max/L[i])) + 1\n",
    "        bins[i] = np.tile(bins[i], (1, n_rep))\n",
    "        \n",
    "    big = max([row.shape[1] for row in bins])\n",
    "    for i in range(n_PRF):\n",
    "        # match array length to concatenate\n",
    "        e = big-bins[i].shape[1]\n",
    "        bins[i] = np.pad(bins[i], [(0,0), (0,e)], mode='constant')\n",
    "        \n",
    "    match = np.concatenate(bins)\n",
    "    index = np.where(match.sum(axis=0) == n_PRF)[0]\n",
    "    \n",
    "    # Long range ambiguity\n",
    "    flags[1] = np.logical_and(Lu_max < index, index < n_max).any()\n",
    "    # Too many targets\n",
    "    flags[2] = len(index) > max(n_det)\n",
    "    \n",
    "    \n",
    "    return index, flags\n",
    "    "
   ]
  },
  {
   "cell_type": "code",
   "execution_count": 30,
   "metadata": {},
   "outputs": [
    {
     "name": "stdout",
     "output_type": "stream",
     "text": [
      "[12, 14] 84\n"
     ]
    },
    {
     "data": {
      "text/plain": [
       "(1, 56)"
      ]
     },
     "execution_count": 30,
     "metadata": {},
     "output_type": "execute_result"
    }
   ],
   "source": [
    "a, b = scheduler1()\n",
    "c = coincidence(b, a)\n",
    "c\n",
    "b[0].shape"
   ]
  },
  {
   "cell_type": "code",
   "execution_count": 31,
   "metadata": {},
   "outputs": [
    {
     "name": "stdout",
     "output_type": "stream",
     "text": [
      "[6, 8] 24\n"
     ]
    },
    {
     "data": {
      "text/plain": [
       "(1, 40)"
      ]
     },
     "execution_count": 31,
     "metadata": {},
     "output_type": "execute_result"
    }
   ],
   "source": [
    "a, b = scheduler2()\n",
    "c = coincidence(b, a)\n",
    "c\n",
    "b[0].shape"
   ]
  },
  {
   "cell_type": "code",
   "execution_count": 29,
   "metadata": {},
   "outputs": [
    {
     "name": "stdout",
     "output_type": "stream",
     "text": [
      "[6, 8, 10] 120\n"
     ]
    },
    {
     "data": {
      "text/plain": [
       "(array([25], dtype=int64), array([0., 0., 0., 0.]))"
      ]
     },
     "execution_count": 29,
     "metadata": {},
     "output_type": "execute_result"
    }
   ],
   "source": [
    "a, b = scheduler3()\n",
    "c = coincidence(b, a)\n",
    "c"
   ]
  },
  {
   "cell_type": "code",
   "execution_count": 18,
   "metadata": {},
   "outputs": [
    {
     "data": {
      "text/plain": [
       "(array([ 3, 10, 12, 19], dtype=int64), array([0., 0., 1., 0.]))"
      ]
     },
     "execution_count": 18,
     "metadata": {},
     "output_type": "execute_result"
    }
   ],
   "source": [
    "a, b = scheduler4()\n",
    "c = coincidence(b, a)\n",
    "c"
   ]
  },
  {
   "cell_type": "code",
   "execution_count": 19,
   "metadata": {},
   "outputs": [
    {
     "data": {
      "text/plain": [
       "(array([10, 12], dtype=int64), array([0., 0., 0., 0.]))"
      ]
     },
     "execution_count": 19,
     "metadata": {},
     "output_type": "execute_result"
    }
   ],
   "source": [
    "a, b = scheduler5()\n",
    "c = coincidence(b, a)\n",
    "c"
   ]
  },
  {
   "cell_type": "code",
   "execution_count": 20,
   "metadata": {},
   "outputs": [
    {
     "data": {
      "text/plain": [
       "(array([79, 87], dtype=int64), array([0., 0., 0., 0.]))"
      ]
     },
     "execution_count": 20,
     "metadata": {},
     "output_type": "execute_result"
    }
   ],
   "source": [
    "a, b = scheduler6()\n",
    "c = coincidence(b, a)\n",
    "c"
   ]
  },
  {
   "cell_type": "code",
   "execution_count": 21,
   "metadata": {},
   "outputs": [
    {
     "data": {
      "text/plain": [
       "(array([], dtype=int64), array([1., 0., 0., 0.]))"
      ]
     },
     "execution_count": 21,
     "metadata": {},
     "output_type": "execute_result"
    }
   ],
   "source": [
    "a, b = scheduler7()\n",
    "c = coincidence(b, a)\n",
    "c"
   ]
  },
  {
   "cell_type": "code",
   "execution_count": 22,
   "metadata": {},
   "outputs": [
    {
     "data": {
      "text/plain": [
       "(array([ 27,  57,  60, 108, 112], dtype=int64), array([0., 0., 1., 0.]))"
      ]
     },
     "execution_count": 22,
     "metadata": {},
     "output_type": "execute_result"
    }
   ],
   "source": [
    "a, b = scheduler8()\n",
    "c = coincidence(b, a)\n",
    "c"
   ]
  },
  {
   "cell_type": "code",
   "execution_count": 23,
   "metadata": {},
   "outputs": [
    {
     "data": {
      "text/plain": [
       "(array([ 27,  60, 108, 112], dtype=int64), array([0., 0., 0., 0.]))"
      ]
     },
     "execution_count": 23,
     "metadata": {},
     "output_type": "execute_result"
    }
   ],
   "source": [
    "a, b = scheduler9()\n",
    "c = coincidence(b, a)\n",
    "c"
   ]
  },
  {
   "cell_type": "code",
   "execution_count": 24,
   "metadata": {},
   "outputs": [
    {
     "data": {
      "text/plain": [
       "(array([13, 20, 22, 37, 44, 46], dtype=int64), array([0., 1., 1., 0.]))"
      ]
     },
     "execution_count": 24,
     "metadata": {},
     "output_type": "execute_result"
    }
   ],
   "source": [
    "a, b = scheduler10()\n",
    "c = coincidence(b, a)\n",
    "c"
   ]
  },
  {
   "cell_type": "code",
   "execution_count": 25,
   "metadata": {},
   "outputs": [
    {
     "data": {
      "text/plain": [
       "(array([13, 20, 46], dtype=int64), array([0., 0., 0., 0.]))"
      ]
     },
     "execution_count": 25,
     "metadata": {},
     "output_type": "execute_result"
    }
   ],
   "source": [
    "a, b = scheduler11()\n",
    "c = coincidence(b, a)\n",
    "c"
   ]
  },
  {
   "cell_type": "code",
   "execution_count": null,
   "metadata": {},
   "outputs": [],
   "source": []
  }
 ],
 "metadata": {
  "kernelspec": {
   "display_name": "Python 3",
   "language": "python",
   "name": "python3"
  },
  "language_info": {
   "codemirror_mode": {
    "name": "ipython",
    "version": 3
   },
   "file_extension": ".py",
   "mimetype": "text/x-python",
   "name": "python",
   "nbconvert_exporter": "python",
   "pygments_lexer": "ipython3",
   "version": "3.8.3"
  }
 },
 "nbformat": 4,
 "nbformat_minor": 4
}
